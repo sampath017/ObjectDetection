{
 "cells": [
  {
   "cell_type": "code",
   "execution_count": 1,
   "metadata": {
    "execution": {
     "iopub.execute_input": "2024-10-16T16:18:53.484908Z",
     "iopub.status.busy": "2024-10-16T16:18:53.484604Z",
     "iopub.status.idle": "2024-10-16T16:18:58.953389Z",
     "shell.execute_reply": "2024-10-16T16:18:58.952570Z",
     "shell.execute_reply.started": "2024-10-16T16:18:53.484876Z"
    },
    "trusted": true
   },
   "outputs": [],
   "source": [
    "import torch\n",
    "from torch import nn\n",
    "from torch import optim\n",
    "from torchinfo import summary\n",
    "from torch.utils.data import random_split, DataLoader\n",
    "from torchvision.transforms import v2\n",
    "from torchvision.models import resnet18, ResNet18_Weights\n",
    "from pathlib import Path\n",
    "import wandb\n",
    "import sys\n",
    "import matplotlib.pyplot as plt\n",
    "import numpy as np\n",
    "import os\n",
    "from quickai.trainer import Trainer\n",
    "from quickai.utils import model_size, load_from_checkpoint\n",
    "from quickai.callbacks import OverfitCallback, EarlyStoppingCallback\n",
    "from quickai.logger import WandbLogger\n",
    "from quickai.dataset import MapDataset\n",
    "\n",
    "sys.path.append(\"../src\")\n",
    "\n",
    "from models import ResNet18\n",
    "from module import ResNetModule\n",
    "import settings as s\n",
    "from dataset import ObjectDetectionDataset"
   ]
  },
  {
   "cell_type": "code",
   "execution_count": 2,
   "metadata": {
    "execution": {
     "iopub.execute_input": "2024-10-16T16:19:22.754626Z",
     "iopub.status.busy": "2024-10-16T16:19:22.754254Z",
     "iopub.status.idle": "2024-10-16T16:19:22.807647Z",
     "shell.execute_reply": "2024-10-16T16:19:22.806609Z",
     "shell.execute_reply.started": "2024-10-16T16:19:22.754579Z"
    },
    "id": "qrqvKqDjWyD9",
    "trusted": true
   },
   "outputs": [],
   "source": [
    "data_path = Path(\"../data\")\n",
    "logs_path = Path(\"../logs\")\n",
    "logs_path.mkdir(exist_ok=True)"
   ]
  },
  {
   "cell_type": "code",
   "execution_count": 3,
   "metadata": {
    "execution": {
     "iopub.execute_input": "2024-10-16T16:18:59.005310Z",
     "iopub.status.busy": "2024-10-16T16:18:59.005021Z",
     "iopub.status.idle": "2024-10-16T16:19:22.752936Z",
     "shell.execute_reply": "2024-10-16T16:19:22.751992Z",
     "shell.execute_reply.started": "2024-10-16T16:18:59.005276Z"
    },
    "id": "e48Wu90cQZYP",
    "outputId": "d2d91142-1b68-465b-d802-9a5c73628a8a",
    "trusted": true
   },
   "outputs": [
    {
     "data": {
      "text/plain": [
       "'cpu'"
      ]
     },
     "execution_count": 3,
     "metadata": {},
     "output_type": "execute_result"
    }
   ],
   "source": [
    "logger = WandbLogger(\n",
    "    project_name=s.project_name,\n",
    "    config={\n",
    "        \"model\": s.model,\n",
    "        \"dataset\": s.dataset,\n",
    "        \"max_epochs\": s.max_epochs,\n",
    "        \"optimizer\": s.optimizer,\n",
    "        \"lr_scheduler\": s.lr_scheduler,\n",
    "        \"test_run\": s.test_run,\n",
    "        \"transfer_learning\": s.transfer_learning\n",
    "    },\n",
    "    logs_path=logs_path,\n",
    "    offline=s.wandb_offline\n",
    ")\n",
    "\n",
    "device = \"cuda\" if torch.cuda.is_available() else \"cpu\"\n",
    "device"
   ]
  },
  {
   "cell_type": "code",
   "execution_count": 4,
   "metadata": {
    "execution": {
     "iopub.execute_input": "2024-10-16T16:19:22.817159Z",
     "iopub.status.busy": "2024-10-16T16:19:22.816408Z",
     "iopub.status.idle": "2024-10-16T16:19:26.500427Z",
     "shell.execute_reply": "2024-10-16T16:19:26.499455Z",
     "shell.execute_reply.started": "2024-10-16T16:19:22.817113Z"
    },
    "id": "ZdeO0nyOXfTK",
    "trusted": true
   },
   "outputs": [
    {
     "name": "stdout",
     "output_type": "stream",
     "text": [
      "Loading from disk!\n"
     ]
    },
    {
     "name": "stderr",
     "output_type": "stream",
     "text": [
      "/workspaces/ObjectDetection/notebooks/../src/dataset.py:25: FutureWarning: You are using `torch.load` with `weights_only=False` (the current default value), which uses the default pickle module implicitly. It is possible to construct malicious pickle data which will execute arbitrary code during unpickling (See https://github.com/pytorch/pytorch/blob/main/SECURITY.md#untrusted-models for more details). In a future release, the default value for `weights_only` will be flipped to `True`. This limits the functions that could be executed during unpickling. Arbitrary objects will no longer be allowed to be loaded via this mode unless they are explicitly allowlisted by the user via `torch.serialization.add_safe_globals`. We recommend you start setting `weights_only=True` for any use case where you don't have full control of the loaded file. Please open an issue on GitHub for any issues related to this experimental feature.\n",
      "  self.single_object_images = torch.load(data_path)\n",
      "/home/codespace/.cache/pypoetry/virtualenvs/objectdetection-t4jZoKIq-py3.12/lib/python3.12/site-packages/torch/utils/data/dataloader.py:557: UserWarning: This DataLoader will create 7 worker processes in total. Our suggested max number of worker in current system is 4, which is smaller than what this DataLoader is going to create. Please be aware that excessive worker creation might get DataLoader running slow or even freeze, lower the worker number to avoid potential slowness/freeze if necessary.\n",
      "  warnings.warn(_create_warning_msg(\n"
     ]
    },
    {
     "data": {
      "text/plain": [
       "1865"
      ]
     },
     "execution_count": 4,
     "metadata": {},
     "output_type": "execute_result"
    }
   ],
   "source": [
    "# cpu_count = os.cpu_count()\n",
    "cpu_count = 7\n",
    "\n",
    "dataset = ObjectDetectionDataset(data_path)\n",
    "\n",
    "train_dataset, val_dataset = random_split(\n",
    "    dataset, [s.dataset[\"train_split\"], s.dataset[\"val_split\"]]\n",
    ")\n",
    "\n",
    "# val_transforms = ResNet18_Weights.IMAGENET1K_V1.transforms()\n",
    "\n",
    "normalize_transforms = v2.Compose([\n",
    "    # Normalize\n",
    "    v2.ToImage(),\n",
    "    v2.ToDtype(torch.float32, scale=True),\n",
    "    v2.Normalize(mean=(0.4914, 0.4822, 0.4465), std=(0.2023, 0.1994, 0.2010))\n",
    "])\n",
    "\n",
    "train_transforms = v2.Compose([\n",
    "    # v2.RandomHorizontalFlip(),\n",
    "    # v2.RandomVerticalFlip(p=0.2),\n",
    "    # v2.ColorJitter(brightness=0.2, contrast=0.2, saturation=0.2, hue=0.1),\n",
    "    # v2.RandomRotation(degrees=15),\n",
    "    # v2.RandomAffine(degrees=0, translate=(0.1, 0.1)),\n",
    "    # v2.RandomGrayscale(p=0.1),\n",
    "    \n",
    "    v2.Resize(224),\n",
    "    v2.CenterCrop(224),\n",
    "    normalize_transforms\n",
    "])\n",
    "\n",
    "train_dataset = MapDataset(train_dataset, transform=train_transforms)\n",
    "val_dataset = MapDataset(val_dataset, transform=normalize_transforms)\n",
    "\n",
    "train_dataloader = DataLoader(\n",
    "    train_dataset, batch_size=s.dataset[\"batch_size\"], shuffle=True, num_workers=cpu_count)\n",
    "val_dataloader = DataLoader(\n",
    "    val_dataset, batch_size=s.dataset[\"batch_size\"],  num_workers=cpu_count)\n",
    "\n",
    "len(dataset)"
   ]
  },
  {
   "cell_type": "code",
   "execution_count": 5,
   "metadata": {},
   "outputs": [],
   "source": [
    "# inverse_norm = v2.Compose([\n",
    "#     v2.Normalize(mean=[0., 0., 0.], std=[1 / 0.2023, 1 / 0.1994, 1 / 0.2010]),\n",
    "#     v2.Normalize(mean=(-0.4914, -0.4822, -0.4465), std=[1., 1., 1.]),\n",
    "# ])\n",
    "\n",
    "# for x, y in train_dataset:\n",
    "#     break\n",
    "\n",
    "# image = inverse_norm(x)\n",
    "# image = (image * 255).permute(1, 2, 0)\n",
    "# image = image.to(torch.int)\n",
    "\n",
    "# plt.imshow(image)\n",
    "# plt.show()"
   ]
  },
  {
   "cell_type": "code",
   "execution_count": 6,
   "metadata": {},
   "outputs": [],
   "source": [
    "callbacks = [\n",
    "    EarlyStoppingCallback(min_val_accuracy=90.0, accuracy_diff=5.0, wait_epochs=5),\n",
    "    # OverfitCallback(limit_batches=1, batch_size=10, max_epochs=500, augument_data=False)\n",
    "]"
   ]
  },
  {
   "cell_type": "code",
   "execution_count": 7,
   "metadata": {},
   "outputs": [
    {
     "name": "stderr",
     "output_type": "stream",
     "text": [
      "\u001b[34m\u001b[1mwandb\u001b[0m: Using wandb-core as the SDK backend.  Please refer to https://wandb.me/wandb-core for more information.\n",
      "\u001b[34m\u001b[1mwandb\u001b[0m: Logging into wandb.ai. (Learn how to deploy a W&B server locally: https://wandb.me/wandb-server)\n",
      "\u001b[34m\u001b[1mwandb\u001b[0m: You can find your API key in your browser here: https://wandb.ai/authorize\n",
      "\u001b[34m\u001b[1mwandb\u001b[0m: Paste an API key from your profile and hit enter, or press ctrl+c to quit:\u001b[34m\u001b[1mwandb\u001b[0m: Appending key for api.wandb.ai to your netrc file: /home/codespace/.netrc\n",
      "\u001b[34m\u001b[1mwandb\u001b[0m: Downloading large artifact run-24z2beff-best_val_acc_68.66.pt:v0, 319.00MB. 1 files... \n",
      "\u001b[34m\u001b[1mwandb\u001b[0m:   1 of 1 files downloaded.  \n",
      "Done. 0:0:27.1\n"
     ]
    },
    {
     "data": {
      "text/plain": [
       "<All keys matched successfully>"
      ]
     },
     "execution_count": 7,
     "metadata": {},
     "output_type": "execute_result"
    },
    {
     "ename": "",
     "evalue": "",
     "output_type": "error",
     "traceback": [
      "\u001b[1;31mThe Kernel crashed while executing code in the current cell or a previous cell. \n",
      "\u001b[1;31mPlease review the code in the cell(s) to identify a possible cause of the failure. \n",
      "\u001b[1;31mClick <a href='https://aka.ms/vscodeJupyterKernelCrash'>here</a> for more info. \n",
      "\u001b[1;31mView Jupyter <a href='command:jupyter.viewOutput'>log</a> for further details."
     ]
    }
   ],
   "source": [
    "api = wandb.Api()\n",
    "run = api.run(\"sampath017/ImageClassification/24z2beff\")\n",
    "artifact = api.artifact('sampath017/ImageClassification/run-24z2beff-best_val_acc_68.66.pt:v0', type='model')\n",
    "local_path = artifact.download(root=logs_path)\n",
    "checkpoint = torch.load(Path(local_path)/\"best_val_acc_68.66.pt\", weights_only=True, map_location=device)\n",
    "\n",
    "model = ResNet18(num_classes=100)\n",
    "model.load_state_dict(checkpoint[\"model\"])"
   ]
  },
  {
   "cell_type": "code",
   "execution_count": null,
   "metadata": {},
   "outputs": [],
   "source": [
    "model.classifier = nn.Sequential(\n",
    "    nn.Flatten(),\n",
    "    nn.Linear(512, 10),\n",
    ")\n",
    "\n",
    "summary(\n",
    "    model,\n",
    "    input_size=(s.dataset[\"batch_size\"],\n",
    "                *train_dataset[0][0].shape),\n",
    "    device=\"cpu\",\n",
    "    mode=\"train\",\n",
    "    depth=1\n",
    ")"
   ]
  },
  {
   "cell_type": "code",
   "execution_count": 7,
   "metadata": {},
   "outputs": [
    {
     "name": "stdout",
     "output_type": "stream",
     "text": [
      "OneCycleLR\n"
     ]
    }
   ],
   "source": [
    "module = ResNetModule(model)\n",
    "\n",
    "optimizer = optim.AdamW(\n",
    "    params=module.model.parameters(),\n",
    "    weight_decay=s.optimizer[\"weight_decay\"]\n",
    ")\n",
    "\n",
    "try:\n",
    "    if s.lr_scheduler[\"name\"] == \"OneCycleLR\":\n",
    "        lr_scheduler = torch.optim.lr_scheduler.OneCycleLR(\n",
    "            optimizer=optimizer,\n",
    "            max_lr=s.lr_scheduler[\"max_lr\"],\n",
    "            epochs=s.max_epochs,\n",
    "            steps_per_epoch=len(train_dataloader),\n",
    "        )\n",
    "\n",
    "        print(s.lr_scheduler[\"name\"])\n",
    "except TypeError:\n",
    "    lr_scheduler = None\n",
    "    print(\"lr_scheduler is None!\")"
   ]
  },
  {
   "cell_type": "code",
   "execution_count": 8,
   "metadata": {
    "execution": {
     "iopub.execute_input": "2024-10-16T16:19:26.511478Z",
     "iopub.status.busy": "2024-10-16T16:19:26.511073Z",
     "iopub.status.idle": "2024-10-16T16:19:26.783322Z",
     "shell.execute_reply": "2024-10-16T16:19:26.782365Z",
     "shell.execute_reply.started": "2024-10-16T16:19:26.511414Z"
    },
    "id": "jJEUcS0-Xf9N",
    "trusted": true
   },
   "outputs": [
    {
     "name": "stdout",
     "output_type": "stream",
     "text": [
      "Using device: cuda!\n"
     ]
    }
   ],
   "source": [
    "trainer = Trainer(\n",
    "    module=module,\n",
    "    logger=logger,\n",
    "    optimizer=optimizer,\n",
    "    callbacks=callbacks,\n",
    "    logs_path=logs_path,\n",
    "    fast_dev_run=s.fast_dev_run,\n",
    "    limit_batches=s.limit_batches,\n",
    "    lr_scheduler=lr_scheduler,\n",
    "    save_checkpoint_type=\"best_val\",\n",
    "    num_workers=cpu_count\n",
    ")"
   ]
  },
  {
   "cell_type": "code",
   "execution_count": 9,
   "metadata": {
    "execution": {
     "iopub.execute_input": "2024-10-16T16:19:26.784997Z",
     "iopub.status.busy": "2024-10-16T16:19:26.784612Z",
     "iopub.status.idle": "2024-10-16T16:33:32.678177Z",
     "shell.execute_reply": "2024-10-16T16:33:32.677331Z",
     "shell.execute_reply.started": "2024-10-16T16:19:26.784949Z"
    },
    "id": "9SmUWgkRXkng",
    "trusted": true
   },
   "outputs": [
    {
     "name": "stderr",
     "output_type": "stream",
     "text": [
      "\u001b[34m\u001b[1mwandb\u001b[0m: Using wandb-core as the SDK backend.  Please refer to https://wandb.me/wandb-core for more information.\n",
      "\u001b[34m\u001b[1mwandb\u001b[0m: Currently logged in as: \u001b[33msampath017\u001b[0m. Use \u001b[1m`wandb login --relogin`\u001b[0m to force relogin\n"
     ]
    },
    {
     "data": {
      "text/html": [
       "Tracking run with wandb version 0.18.7"
      ],
      "text/plain": [
       "<IPython.core.display.HTML object>"
      ]
     },
     "metadata": {},
     "output_type": "display_data"
    },
    {
     "data": {
      "text/html": [
       "Run data is saved locally in <code>../logs/wandb/run-20241230_202109-l48kkurm</code>"
      ],
      "text/plain": [
       "<IPython.core.display.HTML object>"
      ]
     },
     "metadata": {},
     "output_type": "display_data"
    },
    {
     "data": {
      "text/html": [
       "Syncing run <strong><a href='https://wandb.ai/sampath017/ObjectDetection/runs/l48kkurm' target=\"_blank\">summer-sun-3</a></strong> to <a href='https://wandb.ai/sampath017/ObjectDetection' target=\"_blank\">Weights & Biases</a> (<a href='https://wandb.me/developer-guide' target=\"_blank\">docs</a>)<br/>"
      ],
      "text/plain": [
       "<IPython.core.display.HTML object>"
      ]
     },
     "metadata": {},
     "output_type": "display_data"
    },
    {
     "data": {
      "text/html": [
       " View project at <a href='https://wandb.ai/sampath017/ObjectDetection' target=\"_blank\">https://wandb.ai/sampath017/ObjectDetection</a>"
      ],
      "text/plain": [
       "<IPython.core.display.HTML object>"
      ]
     },
     "metadata": {},
     "output_type": "display_data"
    },
    {
     "data": {
      "text/html": [
       " View run at <a href='https://wandb.ai/sampath017/ObjectDetection/runs/l48kkurm' target=\"_blank\">https://wandb.ai/sampath017/ObjectDetection/runs/l48kkurm</a>"
      ],
      "text/plain": [
       "<IPython.core.display.HTML object>"
      ]
     },
     "metadata": {},
     "output_type": "display_data"
    },
    {
     "name": "stdout",
     "output_type": "stream",
     "text": [
      "Time per epoch: 4.38 seconds\n",
      "Epoch: 0, train_accuracy: 20.00, val_accuracy: 15.06, lr: 0.0004\n",
      "Epoch: 1, train_accuracy: 34.53, val_accuracy: 14.66, lr: 0.0005\n",
      "Epoch: 2, train_accuracy: 33.19, val_accuracy: 14.99, lr: 0.0008\n",
      "Epoch: 3, train_accuracy: 28.71, val_accuracy: 5.06, lr: 0.0013\n",
      "Epoch: 4, train_accuracy: 34.70, val_accuracy: 12.86, lr: 0.0020\n",
      "Epoch: 5, train_accuracy: 35.39, val_accuracy: 12.98, lr: 0.0028\n",
      "Epoch: 6, train_accuracy: 32.21, val_accuracy: 9.46, lr: 0.0038\n",
      "Epoch: 7, train_accuracy: 31.72, val_accuracy: 12.13, lr: 0.0048\n",
      "Epoch: 8, train_accuracy: 30.86, val_accuracy: 10.52, lr: 0.0058\n",
      "Epoch: 9, train_accuracy: 31.69, val_accuracy: 11.89, lr: 0.0068\n",
      "Epoch: 10, train_accuracy: 27.62, val_accuracy: 12.47, lr: 0.0077\n",
      "Epoch: 11, train_accuracy: 32.21, val_accuracy: 8.58, lr: 0.0085\n",
      "Epoch: 12, train_accuracy: 33.25, val_accuracy: 12.39, lr: 0.0092\n",
      "Epoch: 13, train_accuracy: 31.68, val_accuracy: 14.56, lr: 0.0096\n",
      "Epoch: 14, train_accuracy: 31.11, val_accuracy: 15.71, lr: 0.0099\n",
      "Epoch: 15, train_accuracy: 31.09, val_accuracy: 14.14, lr: 0.0100\n",
      "Epoch: 16, train_accuracy: 35.19, val_accuracy: 19.68, lr: 0.0100\n",
      "Epoch: 17, train_accuracy: 35.76, val_accuracy: 18.43, lr: 0.0099\n",
      "Epoch: 18, train_accuracy: 37.33, val_accuracy: 22.70, lr: 0.0098\n",
      "Epoch: 19, train_accuracy: 35.73, val_accuracy: 28.87, lr: 0.0097\n",
      "Epoch: 20, train_accuracy: 39.95, val_accuracy: 25.31, lr: 0.0095\n",
      "Epoch: 21, train_accuracy: 39.67, val_accuracy: 29.04, lr: 0.0093\n",
      "Epoch: 22, train_accuracy: 41.48, val_accuracy: 20.36, lr: 0.0090\n",
      "Epoch: 23, train_accuracy: 41.85, val_accuracy: 21.53, lr: 0.0087\n",
      "Epoch: 24, train_accuracy: 44.81, val_accuracy: 27.70, lr: 0.0084\n",
      "Epoch: 25, train_accuracy: 46.09, val_accuracy: 27.06, lr: 0.0081\n",
      "Epoch: 26, train_accuracy: 44.58, val_accuracy: 23.83, lr: 0.0077\n",
      "Epoch: 27, train_accuracy: 53.55, val_accuracy: 25.37, lr: 0.0073\n",
      "Epoch: 28, train_accuracy: 51.90, val_accuracy: 26.00, lr: 0.0069\n",
      "Epoch: 29, train_accuracy: 54.17, val_accuracy: 27.00, lr: 0.0065\n",
      "Epoch: 30, train_accuracy: 53.98, val_accuracy: 27.07, lr: 0.0060\n",
      "Epoch: 31, train_accuracy: 56.18, val_accuracy: 29.06, lr: 0.0056\n",
      "Epoch: 32, train_accuracy: 57.40, val_accuracy: 27.25, lr: 0.0051\n",
      "Epoch: 33, train_accuracy: 60.61, val_accuracy: 28.93, lr: 0.0047\n",
      "Epoch: 34, train_accuracy: 66.95, val_accuracy: 28.04, lr: 0.0043\n",
      "Epoch: 35, train_accuracy: 66.67, val_accuracy: 29.46, lr: 0.0038\n",
      "Epoch: 36, train_accuracy: 67.90, val_accuracy: 33.34, lr: 0.0034\n",
      "Epoch: 37, train_accuracy: 73.25, val_accuracy: 31.02, lr: 0.0030\n",
      "Epoch: 38, train_accuracy: 75.65, val_accuracy: 31.08, lr: 0.0026\n",
      "Epoch: 39, train_accuracy: 78.60, val_accuracy: 31.86, lr: 0.0022\n",
      "Epoch: 40, train_accuracy: 81.97, val_accuracy: 32.51, lr: 0.0018\n",
      "Epoch: 41, train_accuracy: 85.51, val_accuracy: 32.12, lr: 0.0015\n",
      "Epoch: 42, train_accuracy: 86.18, val_accuracy: 31.99, lr: 0.0012\n",
      "Epoch: 43, train_accuracy: 87.75, val_accuracy: 29.27, lr: 0.0009\n",
      "Epoch: 44, train_accuracy: 87.64, val_accuracy: 33.15, lr: 0.0007\n",
      "Epoch: 45, train_accuracy: 90.27, val_accuracy: 31.92, lr: 0.0005\n",
      "Epoch: 46, train_accuracy: 93.05, val_accuracy: 31.02, lr: 0.0003\n",
      "Epoch: 47, train_accuracy: 90.95, val_accuracy: 30.89, lr: 0.0002\n",
      "Epoch: 48, train_accuracy: 92.42, val_accuracy: 31.34, lr: 0.0001\n",
      "Epoch: 49, train_accuracy: 94.53, val_accuracy: 31.08, lr: 0.0000\n"
     ]
    },
    {
     "data": {
      "application/vnd.jupyter.widget-view+json": {
       "model_id": "32a326d5908e42679d475301b58d9038",
       "version_major": 2,
       "version_minor": 0
      },
      "text/plain": [
       "VBox(children=(Label(value='40.232 MB of 128.165 MB uploaded\\r'), FloatProgress(value=0.3139062845193023, max=…"
      ]
     },
     "metadata": {},
     "output_type": "display_data"
    },
    {
     "data": {
      "text/html": [
       "\n",
       "    <style>\n",
       "        .wandb-row {\n",
       "            display: flex;\n",
       "            flex-direction: row;\n",
       "            flex-wrap: wrap;\n",
       "            justify-content: flex-start;\n",
       "            width: 100%;\n",
       "        }\n",
       "        .wandb-col {\n",
       "            display: flex;\n",
       "            flex-direction: column;\n",
       "            flex-basis: 100%;\n",
       "            flex: 1;\n",
       "            padding: 10px;\n",
       "        }\n",
       "    </style>\n",
       "<div class=\"wandb-row\"><div class=\"wandb-col\"><h3>Run history:</h3><br/><table class=\"wandb\"><tr><td>epoch</td><td>▁▁▁▁▁▂▂▂▂▃▃▃▃▃▃▄▄▄▄▄▅▅▅▅▅▅▅▆▆▆▇▇▇▇▇▇████</td></tr><tr><td>epoch_train_accuracy</td><td>▁▂▂▂▂▂▂▂▂▂▂▂▂▂▃▃▃▃▃▃▄▃▄▄▄▄▅▅▅▅▆▆▇▇▇▇▇███</td></tr><tr><td>epoch_train_loss</td><td>█▇▆▇▆▇▇▇▇▇▇▇▆▆▆▆▆▆▅▅▅▅▄▄▄▄▄▄▃▃▃▂▂▂▂▁▁▁▁▁</td></tr><tr><td>epoch_val_accuracy</td><td>▃▃▃▁▃▂▃▂▃▂▃▄▃▄▅▆▇▅▅▇▆▆▆▆▆▆▇▇▇█▇██████▇▇▇</td></tr><tr><td>epoch_val_loss</td><td>▁▁▁▂▃█▁▂▁▁▁▁▁▁▁▁▁▁▁▁▁▁▁▁▁▁▁▁▁▁▁▁▁▁▁▁▁▁▁▁</td></tr><tr><td>lr</td><td>▁▂▂▄▄▆▆▇▇████▇▇▇▇▇▆▆▆▅▅▅▄▃▂▂▂▂▂▂▂▁▁▁▁▁▁▁</td></tr><tr><td>step_train_accuracy</td><td>▁▂▁▂▂▂▂▂▂▂▁▂▂▂▂▂▂▃▃▃▃▃▄▄▄▄▅▄▄▅▆▄▄▆▆█▇███</td></tr><tr><td>step_train_loss</td><td>█▇▇▆▇▇▇▇▇▇▆▇▆▆▆▅▆▆▅▄▅▄▄▄▄▄▃▂▂▂▂▁▂▁▁▁▁▁▁▁</td></tr><tr><td>step_val_accuracy</td><td>▂▃▂▂▂▃▂▃▁▃▃▃▃▅▃▄▄▅▅▅▅▅▃▆▅▆▆▆█▆▇▇▇▇▆▆▆▆▆▆</td></tr><tr><td>step_val_loss</td><td>▁▁▁▃▄█▃▅▃▁▁▁▂▁▁▁▁▁▁▁▁▁▁▁▁▁▁▁▁▁▁▁▁▁▁▁▁▁▁▁</td></tr><tr><td>training_step</td><td>▁▁▁▁▁▂▂▂▂▂▂▂▃▄▄▄▄▄▄▅▅▅▅▅▅▅▆▆▆▆▆▇▇▇▇▇▇███</td></tr><tr><td>validation_step</td><td>▁▁▁▂▂▂▂▂▂▂▃▃▃▃▃▄▄▄▄▄▄▅▅▅▅▆▆▆▆▆▇▇▇▇▇▇████</td></tr></table><br/></div><div class=\"wandb-col\"><h3>Run summary:</h3><br/><table class=\"wandb\"><tr><td>epoch</td><td>49</td></tr><tr><td>epoch_train_accuracy</td><td>94.53125</td></tr><tr><td>epoch_train_loss</td><td>0.28311</td></tr><tr><td>epoch_val_accuracy</td><td>31.08101</td></tr><tr><td>epoch_val_loss</td><td>2.86014</td></tr><tr><td>lr</td><td>1e-05</td></tr><tr><td>model_architecture</td><td>ResNet(\n",
       "  (conv1): C...</td></tr><tr><td>step_train_accuracy</td><td>100</td></tr><tr><td>step_train_loss</td><td>0.18841</td></tr><tr><td>step_val_accuracy</td><td>31.91489</td></tr><tr><td>step_val_loss</td><td>2.87675</td></tr><tr><td>training_step</td><td>300</td></tr><tr><td>validation_step</td><td>150</td></tr></table><br/></div></div>"
      ],
      "text/plain": [
       "<IPython.core.display.HTML object>"
      ]
     },
     "metadata": {},
     "output_type": "display_data"
    },
    {
     "data": {
      "text/html": [
       " View run <strong style=\"color:#cdcd00\">summer-sun-3</strong> at: <a href='https://wandb.ai/sampath017/ObjectDetection/runs/l48kkurm' target=\"_blank\">https://wandb.ai/sampath017/ObjectDetection/runs/l48kkurm</a><br/> View project at: <a href='https://wandb.ai/sampath017/ObjectDetection' target=\"_blank\">https://wandb.ai/sampath017/ObjectDetection</a><br/>Synced 5 W&B file(s), 0 media file(s), 2 artifact file(s) and 0 other file(s)"
      ],
      "text/plain": [
       "<IPython.core.display.HTML object>"
      ]
     },
     "metadata": {},
     "output_type": "display_data"
    },
    {
     "data": {
      "text/html": [
       "Find logs at: <code>../logs/wandb/run-20241230_202109-l48kkurm/logs</code>"
      ],
      "text/plain": [
       "<IPython.core.display.HTML object>"
      ]
     },
     "metadata": {},
     "output_type": "display_data"
    }
   ],
   "source": [
    "try:\n",
    "    trainer.fit(train_dataloader, val_dataloader)\n",
    "except KeyboardInterrupt as e:\n",
    "    print(\"Run stopped!\")\n",
    "finally:\n",
    "    wandb.finish()"
   ]
  },
  {
   "cell_type": "markdown",
   "metadata": {},
   "source": [
    "[Metrics](https://api.wandb.ai/links/sampath017/iwrrziwg)"
   ]
  },
  {
   "cell_type": "code",
   "execution_count": null,
   "metadata": {},
   "outputs": [],
   "source": []
  }
 ],
 "metadata": {
  "accelerator": "TPU",
  "colab": {
   "gpuType": "V28",
   "provenance": []
  },
  "kaggle": {
   "accelerator": "none",
   "dataSources": [
    {
     "datasetId": 5863031,
     "sourceId": 9608953,
     "sourceType": "datasetVersion"
    }
   ],
   "dockerImageVersionId": 30786,
   "isGpuEnabled": false,
   "isInternetEnabled": true,
   "language": "python",
   "sourceType": "notebook"
  },
  "kernelspec": {
   "display_name": "objectdetection-t4jZoKIq-py3.12",
   "language": "python",
   "name": "python3"
  },
  "language_info": {
   "codemirror_mode": {
    "name": "ipython",
    "version": 3
   },
   "file_extension": ".py",
   "mimetype": "text/x-python",
   "name": "python",
   "nbconvert_exporter": "python",
   "pygments_lexer": "ipython3",
   "version": "3.12.1"
  }
 },
 "nbformat": 4,
 "nbformat_minor": 4
}
